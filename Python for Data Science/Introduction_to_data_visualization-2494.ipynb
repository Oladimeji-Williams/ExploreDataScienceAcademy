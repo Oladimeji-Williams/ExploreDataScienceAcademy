{
 "cells": [
  {
   "cell_type": "markdown",
   "metadata": {
    "id": "7aKm6LMVIh5A"
   },
   "source": [
    "# Introduction to Data Visualisation\n",
    "\n",
    "© EXPLORE Data Science Academy"
   ]
  },
  {
   "cell_type": "markdown",
   "metadata": {
    "id": "ku4E8Ck9oA2g"
   },
   "source": [
    "## Learning Objectives\n",
    "In this train you will learn how to:\n",
    "\n",
    "* Implement various plotting techniques using Python's matplotlib package.\n",
    "* Distinguish between different types of graphs. \n",
    "* Understand how to best represent your data using a specific graph.\n",
    "* Analyse and draw insight from graphs.\n",
    "\n",
    "## Outcomes\n",
    "This train is structured as follows:\n",
    "\n",
    "* Introduction to graphs their various forms.\n",
    "* Plotting graphs.\n",
    "* Importing data and data preparation.\n",
    "* Bar graphs and Pie charts. \n",
    "* Line graphs and Scatter plots.\n",
    "* Conclusion."
   ]
  },
  {
   "cell_type": "markdown",
   "metadata": {
    "id": "QnIBt8vAiDME"
   },
   "source": [
    "## Introduction\n",
    "\n",
    "\n",
    "Data visualisation is the process of representing data and information in a graphical format such as charts, maps and diagrams. The objective of these visuals is to increase understanding of the underlying data; allowing patterns, trends, relationships and outliers to be recognised more readily than an inspection of the raw data alone can provide.    \n",
    "\n",
    "There will be many situations where you will have to present your data driven findings and insights. Unfortunately, raw data are not well suited for this purpose. This is where harnessing the full potential of data visualisation becomes pivotal. In this train, you will learn how to visualise data using Python's graphing package `matplotlib`, as well as how to determine the best visualisation techniques to use based on the data you are presented with.\n",
    "\n",
    "## Different Kinds of Charts:\n",
    "\n",
    "There are many different ways to represent the same data, and the choice of visualisation affects what information is conveyed to the audience. In this train, we will walk you through some of the most basic (yet useful and reliable) chart options. Below is an image depicting some of the most popular charts used for data visualisation. \n",
    "\n",
    "\n",
    "<img src=\"https://github.com/Explore-AI/Pictures/blob/master/Data_visualisation.jpg?raw=true\" style=\"float: center; padding-bottom=0.5em\" width=80%/>"
   ]
  },
  {
   "cell_type": "markdown",
   "metadata": {
    "id": "ffJsW1o9Ih5G"
   },
   "source": [
    "## Plotting Graphs\n",
    "\n",
    "In this section, we'll learn how to plot some of these graphs in Python using the `matplotlib` library.\n",
    "\n",
    "We will begin by importing some commonly used Python libraries. "
   ]
  },
  {
   "cell_type": "code",
   "execution_count": 1,
   "metadata": {
    "executionInfo": {
     "elapsed": 3316,
     "status": "ok",
     "timestamp": 1615975109367,
     "user": {
      "displayName": "Maddy Muir",
      "photoUrl": "https://lh3.googleusercontent.com/a-/AOh14GhHUIKkhXKq9DuA8qOTWpMVwLJh_t6fAHK7YEdm=s64",
      "userId": "16804996998278400557"
     },
     "user_tz": -120
    },
    "id": "vzlc9sju04Mo"
   },
   "outputs": [],
   "source": [
    "# Import libraries \n",
    "import matplotlib.pyplot as plt #used for plotting data \n",
    "import numpy as np #used for mathematical operations\n",
    "import pandas as pd #used to loading CSV data"
   ]
  },
  {
   "cell_type": "markdown",
   "metadata": {
    "id": "Kv21oiKuiDMJ"
   },
   "source": [
    "### Import data\n",
    "\n",
    "For this train, we will be using [the tips](https://www.kaggle.com/jsphyg/tipping) dataset, which consists of customer tip data collected over a period of two and half months in early 1990 from one restaurant by a food server.\n",
    "\n",
    "Let's go ahead and import our data."
   ]
  },
  {
   "cell_type": "code",
   "execution_count": 2,
   "metadata": {
    "executionInfo": {
     "elapsed": 4543,
     "status": "ok",
     "timestamp": 1615975110611,
     "user": {
      "displayName": "Maddy Muir",
      "photoUrl": "https://lh3.googleusercontent.com/a-/AOh14GhHUIKkhXKq9DuA8qOTWpMVwLJh_t6fAHK7YEdm=s64",
      "userId": "16804996998278400557"
     },
     "user_tz": -120
    },
    "id": "QU56MJdXiDML"
   },
   "outputs": [],
   "source": [
    "df = pd.read_csv(\"https://raw.githubusercontent.com/Explore-AI/Public-Data/master/Data/tips.csv\")"
   ]
  },
  {
   "cell_type": "markdown",
   "metadata": {
    "id": "nNBR3dQNiDML"
   },
   "source": [
    "### Data preparation"
   ]
  },
  {
   "cell_type": "code",
   "execution_count": 3,
   "metadata": {
    "colab": {
     "base_uri": "https://localhost:8080/",
     "height": 0
    },
    "executionInfo": {
     "elapsed": 4544,
     "status": "ok",
     "timestamp": 1615975110629,
     "user": {
      "displayName": "Maddy Muir",
      "photoUrl": "https://lh3.googleusercontent.com/a-/AOh14GhHUIKkhXKq9DuA8qOTWpMVwLJh_t6fAHK7YEdm=s64",
      "userId": "16804996998278400557"
     },
     "user_tz": -120
    },
    "id": "JjXib1hNiDMM",
    "outputId": "b9294a0d-2bab-4d3a-efa9-6505a603ec29"
   },
   "outputs": [
    {
     "data": {
      "text/html": [
       "<div>\n",
       "<style scoped>\n",
       "    .dataframe tbody tr th:only-of-type {\n",
       "        vertical-align: middle;\n",
       "    }\n",
       "\n",
       "    .dataframe tbody tr th {\n",
       "        vertical-align: top;\n",
       "    }\n",
       "\n",
       "    .dataframe thead th {\n",
       "        text-align: right;\n",
       "    }\n",
       "</style>\n",
       "<table border=\"1\" class=\"dataframe\">\n",
       "  <thead>\n",
       "    <tr style=\"text-align: right;\">\n",
       "      <th></th>\n",
       "      <th>total_bill</th>\n",
       "      <th>tip</th>\n",
       "      <th>sex</th>\n",
       "      <th>smoker</th>\n",
       "      <th>day</th>\n",
       "      <th>time</th>\n",
       "      <th>size</th>\n",
       "    </tr>\n",
       "  </thead>\n",
       "  <tbody>\n",
       "    <tr>\n",
       "      <th>0</th>\n",
       "      <td>16.99</td>\n",
       "      <td>1.01</td>\n",
       "      <td>Female</td>\n",
       "      <td>No</td>\n",
       "      <td>Sun</td>\n",
       "      <td>Dinner</td>\n",
       "      <td>2</td>\n",
       "    </tr>\n",
       "    <tr>\n",
       "      <th>1</th>\n",
       "      <td>10.34</td>\n",
       "      <td>1.66</td>\n",
       "      <td>Male</td>\n",
       "      <td>No</td>\n",
       "      <td>Sun</td>\n",
       "      <td>Dinner</td>\n",
       "      <td>3</td>\n",
       "    </tr>\n",
       "    <tr>\n",
       "      <th>2</th>\n",
       "      <td>21.01</td>\n",
       "      <td>3.50</td>\n",
       "      <td>Male</td>\n",
       "      <td>No</td>\n",
       "      <td>Sun</td>\n",
       "      <td>Dinner</td>\n",
       "      <td>3</td>\n",
       "    </tr>\n",
       "    <tr>\n",
       "      <th>3</th>\n",
       "      <td>23.68</td>\n",
       "      <td>3.31</td>\n",
       "      <td>Male</td>\n",
       "      <td>No</td>\n",
       "      <td>Sun</td>\n",
       "      <td>Dinner</td>\n",
       "      <td>2</td>\n",
       "    </tr>\n",
       "    <tr>\n",
       "      <th>4</th>\n",
       "      <td>24.59</td>\n",
       "      <td>3.61</td>\n",
       "      <td>Female</td>\n",
       "      <td>No</td>\n",
       "      <td>Sun</td>\n",
       "      <td>Dinner</td>\n",
       "      <td>4</td>\n",
       "    </tr>\n",
       "  </tbody>\n",
       "</table>\n",
       "</div>"
      ],
      "text/plain": [
       "   total_bill   tip     sex smoker  day    time  size\n",
       "0       16.99  1.01  Female     No  Sun  Dinner     2\n",
       "1       10.34  1.66    Male     No  Sun  Dinner     3\n",
       "2       21.01  3.50    Male     No  Sun  Dinner     3\n",
       "3       23.68  3.31    Male     No  Sun  Dinner     2\n",
       "4       24.59  3.61  Female     No  Sun  Dinner     4"
      ]
     },
     "execution_count": 3,
     "metadata": {},
     "output_type": "execute_result"
    }
   ],
   "source": [
    "df.head() #First 5 rows of data "
   ]
  },
  {
   "cell_type": "code",
   "execution_count": 4,
   "metadata": {
    "colab": {
     "base_uri": "https://localhost:8080/"
    },
    "executionInfo": {
     "elapsed": 4458,
     "status": "ok",
     "timestamp": 1615975110630,
     "user": {
      "displayName": "Maddy Muir",
      "photoUrl": "https://lh3.googleusercontent.com/a-/AOh14GhHUIKkhXKq9DuA8qOTWpMVwLJh_t6fAHK7YEdm=s64",
      "userId": "16804996998278400557"
     },
     "user_tz": -120
    },
    "id": "EEg4y5MoiDMO",
    "outputId": "b94fb216-167d-4c14-99ce-5cd6fc238f3f"
   },
   "outputs": [
    {
     "name": "stdout",
     "output_type": "stream",
     "text": [
      "      total_bill     tip  size\n",
      "day                           \n",
      "Fri       325.88   51.96    40\n",
      "Sat      1778.40  260.40   219\n",
      "Sun      1627.16  247.39   216\n",
      "Thur     1096.33  171.83   152\n"
     ]
    }
   ],
   "source": [
    "title_day = df.groupby('day').sum() #group and sum data by the number of values for each ‘day’ category\n",
    "print(title_day)"
   ]
  },
  {
   "cell_type": "code",
   "execution_count": 5,
   "metadata": {
    "executionInfo": {
     "elapsed": 4449,
     "status": "ok",
     "timestamp": 1615975110631,
     "user": {
      "displayName": "Maddy Muir",
      "photoUrl": "https://lh3.googleusercontent.com/a-/AOh14GhHUIKkhXKq9DuA8qOTWpMVwLJh_t6fAHK7YEdm=s64",
      "userId": "16804996998278400557"
     },
     "user_tz": -120
    },
    "id": "t0eGvtZ-iDMO"
   },
   "outputs": [],
   "source": [
    "week_day = title_day.total_bill.sort_values().index #sort the indices \n",
    "bill = title_day.total_bill.sort_values() "
   ]
  },
  {
   "cell_type": "code",
   "execution_count": 6,
   "metadata": {
    "colab": {
     "base_uri": "https://localhost:8080/"
    },
    "executionInfo": {
     "elapsed": 4437,
     "status": "ok",
     "timestamp": 1615975110632,
     "user": {
      "displayName": "Maddy Muir",
      "photoUrl": "https://lh3.googleusercontent.com/a-/AOh14GhHUIKkhXKq9DuA8qOTWpMVwLJh_t6fAHK7YEdm=s64",
      "userId": "16804996998278400557"
     },
     "user_tz": -120
    },
    "id": "cKE32_-CiDMR",
    "outputId": "7d807418-ea67-4534-f971-ddf3f7ff4fce"
   },
   "outputs": [
    {
     "name": "stdout",
     "output_type": "stream",
     "text": [
      "day\n",
      "Fri      325.88\n",
      "Thur    1096.33\n",
      "Sun     1627.16\n",
      "Sat     1778.40\n",
      "Name: total_bill, dtype: float64\n"
     ]
    }
   ],
   "source": [
    "print(bill)"
   ]
  },
  {
   "cell_type": "markdown",
   "metadata": {
    "id": "PzET3duQIh5G"
   },
   "source": [
    "### Bar graph"
   ]
  },
  {
   "cell_type": "markdown",
   "metadata": {
    "id": "BGj7Ck2_Ih5H"
   },
   "source": [
    "From the data provided, we can find out which days of the week the restaurant was the busiest and made the most amount of money. \n",
    "We can visualise this data using a bar graph as follows:"
   ]
  },
  {
   "cell_type": "code",
   "execution_count": 7,
   "metadata": {
    "colab": {
     "base_uri": "https://localhost:8080/",
     "height": 322
    },
    "executionInfo": {
     "elapsed": 4390,
     "status": "ok",
     "timestamp": 1615975110632,
     "user": {
      "displayName": "Maddy Muir",
      "photoUrl": "https://lh3.googleusercontent.com/a-/AOh14GhHUIKkhXKq9DuA8qOTWpMVwLJh_t6fAHK7YEdm=s64",
      "userId": "16804996998278400557"
     },
     "user_tz": -120
    },
    "id": "aLoPc_kSIh5I",
    "outputId": "3d1aefe7-13c9-41ee-eaec-1e823bdeed7d"
   },
   "outputs": [
    {
     "data": {
      "image/png": "[encoded data removed]",
      "text/plain": [
       "<Figure size 432x288 with 1 Axes>"
      ]
     },
     "metadata": {
      "needs_background": "light"
     },
     "output_type": "display_data"
    }
   ],
   "source": [
    "# Plot total bill (y-axis) for day of the week (x-axis) \n",
    "# We only have to call a single line of code from matplotlib to produce the base graph. \n",
    "plt.bar(x = week_day, height = bill, color= 'orange' )\n",
    "\n",
    "# Set x and y axis titles\n",
    "plt.ylabel('Total Bill')\n",
    "plt.xlabel('\\n Days of the Week(Thur-Sun)') # Note: '\\n' creates a newline (try removing it and see what happens)  \n",
    "\n",
    "# Set graph title\n",
    "plt.title('Total bill of customers for Thur-Sun \\n')\n",
    "\n",
    "# Show graph\n",
    "plt.show()"
   ]
  },
  {
   "cell_type": "code",
   "execution_count": 8,
   "metadata": {},
   "outputs": [],
   "source": [
    "donuts_per_person = {\"kwanda\": 6, \"jonathan\": 8, \"jaco\": 7, \"jason\": 5, \"laura\": 6, \"andrew\":8}"
   ]
  },
  {
   "cell_type": "code",
   "execution_count": 9,
   "metadata": {},
   "outputs": [],
   "source": [
    "donuts = donuts_per_person.values()\n",
    "person = donuts_per_person.keys()"
   ]
  },
  {
   "cell_type": "code",
   "execution_count": 10,
   "metadata": {},
   "outputs": [
    {
     "data": {
      "text/plain": [
       "dict_values([6, 8, 7, 5, 6, 8])"
      ]
     },
     "execution_count": 10,
     "metadata": {},
     "output_type": "execute_result"
    }
   ],
   "source": [
    "donuts"
   ]
  },
  {
   "cell_type": "code",
   "execution_count": 11,
   "metadata": {},
   "outputs": [
    {
     "data": {
      "text/plain": [
       "array([0, 1, 2, 3, 4, 5])"
      ]
     },
     "execution_count": 11,
     "metadata": {},
     "output_type": "execute_result"
    }
   ],
   "source": [
    "y_pos = np.arange(len(donuts_per_person))\n",
    "y_pos"
   ]
  },
  {
   "cell_type": "code",
   "execution_count": 12,
   "metadata": {},
   "outputs": [
    {
     "data": {
      "image/png": "[encoded data removed]",
      "text/plain": [
       "<Figure size 432x288 with 1 Axes>"
      ]
     },
     "metadata": {
      "needs_background": "light"
     },
     "output_type": "display_data"
    }
   ],
   "source": [
    "plt.bar(y_pos, donuts, alpha=0.5)\n",
    "plt.xticks(y_pos, person)\n",
    "plt.ylabel(\"Donuts\")\n",
    "plt.title(\"How many donuts each\")\n",
    "plt.show()"
   ]
  },
  {
   "cell_type": "markdown",
   "metadata": {
    "id": "tdOmOO0BFhdp"
   },
   "source": [
    "**Analysis**: From the bar graph, we can see that the restaurant makes most of its money on the weekend. This is expected as Saturday and Sunday are usually the busiest days of the week for restaurants as people are off from work.  "
   ]
  },
  {
   "cell_type": "markdown",
   "metadata": {
    "id": "RRFJsU8MIh5L"
   },
   "source": [
    "### Pie chart\n",
    "\n",
    "Next, we will plot a **pie chart** showing the proportion of the total meals served at the restaurant, and determine during which mealtime the server earned the most in tips.  "
   ]
  },
  {
   "cell_type": "code",
   "execution_count": 13,
   "metadata": {
    "colab": {
     "base_uri": "https://localhost:8080/"
    },
    "executionInfo": {
     "elapsed": 4380,
     "status": "ok",
     "timestamp": 1615975110633,
     "user": {
      "displayName": "Maddy Muir",
      "photoUrl": "https://lh3.googleusercontent.com/a-/AOh14GhHUIKkhXKq9DuA8qOTWpMVwLJh_t6fAHK7YEdm=s64",
      "userId": "16804996998278400557"
     },
     "user_tz": -120
    },
    "id": "z7qIadMZiDNZ",
    "outputId": "4e0bdd41-a371-40e7-df58-9d1d6541eab5"
   },
   "outputs": [
    {
     "name": "stdout",
     "output_type": "stream",
     "text": [
      "        total_bill     tip  size\n",
      "time                            \n",
      "Dinner     3660.30  546.07   463\n",
      "Lunch      1167.47  185.51   164\n"
     ]
    }
   ],
   "source": [
    "title_time = df.groupby('time').sum() # Group and sum data by the number of values for each ‘time’ category\n",
    "print(title_time)"
   ]
  },
  {
   "cell_type": "code",
   "execution_count": 14,
   "metadata": {
    "executionInfo": {
     "elapsed": 4368,
     "status": "ok",
     "timestamp": 1615975110634,
     "user": {
      "displayName": "Maddy Muir",
      "photoUrl": "https://lh3.googleusercontent.com/a-/AOh14GhHUIKkhXKq9DuA8qOTWpMVwLJh_t6fAHK7YEdm=s64",
      "userId": "16804996998278400557"
     },
     "user_tz": -120
    },
    "id": "G55L2bu4iDNa"
   },
   "outputs": [],
   "source": [
    "meal_time = title_time.tip.sort_values().index #Sort the indices \n",
    "tips = title_time.tip.sort_values() "
   ]
  },
  {
   "cell_type": "code",
   "execution_count": 15,
   "metadata": {
    "colab": {
     "base_uri": "https://localhost:8080/",
     "height": 248
    },
    "executionInfo": {
     "elapsed": 4337,
     "status": "ok",
     "timestamp": 1615975110642,
     "user": {
      "displayName": "Maddy Muir",
      "photoUrl": "https://lh3.googleusercontent.com/a-/AOh14GhHUIKkhXKq9DuA8qOTWpMVwLJh_t6fAHK7YEdm=s64",
      "userId": "16804996998278400557"
     },
     "user_tz": -120
    },
    "id": "-kk69NFUIh5N",
    "outputId": "b3487d19-dc51-4dfd-a5ec-be2bf5e3a7a7"
   },
   "outputs": [
    {
     "data": {
      "image/png": "[encoded data removed]",
      "text/plain": [
       "<Figure size 432x288 with 1 Axes>"
      ]
     },
     "metadata": {},
     "output_type": "display_data"
    }
   ],
   "source": [
    "# Plot a pie chart\n",
    "# The `autopct` argument defines the format applied to the data labels. \n",
    "# The `startangle` argument determines which point in the pie to start plotting proportions from. \n",
    "# Full plot documentation can be found here: https://matplotlib.org/3.1.1/api/_as_gen/matplotlib.pyplot.pie.html \n",
    "plt.pie(tips, labels = meal_time, autopct='%1.1f%%',  startangle=140)\n",
    "\n",
    "# Place the chart legend in a position which does not overlap with other components. \n",
    "plt.legend(loc=\"best\")\n",
    "plt.axis('equal')\n",
    "plt.show()"
   ]
  },
  {
   "cell_type": "markdown",
   "metadata": {
    "id": "omHMn2ZEiDNc"
   },
   "source": [
    "### Pie vs Donut charts"
   ]
  },
  {
   "cell_type": "markdown",
   "metadata": {
    "id": "hGLiONYIiDNc"
   },
   "source": [
    "Donut charts are quite similar to pie charts except they contain a hole in its center, and displays categories as arcs rather than slices. Donut charts are considered easier to interpret visually in comparison to pie charts. Let's visualise the same data using a **donut chart**. "
   ]
  },
  {
   "cell_type": "code",
   "execution_count": 17,
   "metadata": {
    "colab": {
     "base_uri": "https://localhost:8080/",
     "height": 248
    },
    "executionInfo": {
     "elapsed": 4278,
     "status": "ok",
     "timestamp": 1615975110642,
     "user": {
      "displayName": "Maddy Muir",
      "photoUrl": "https://lh3.googleusercontent.com/a-/AOh14GhHUIKkhXKq9DuA8qOTWpMVwLJh_t6fAHK7YEdm=s64",
      "userId": "16804996998278400557"
     },
     "user_tz": -120
    },
    "id": "OHxhKnYpiDNd",
    "outputId": "5fca9089-7f00-4991-c51c-67fcef74b820"
   },
   "outputs": [
    {
     "data": {
      "image/png": "[encoded data removed]",
      "text/plain": [
       "<Figure size 432x288 with 1 Axes>"
      ]
     },
     "metadata": {},
     "output_type": "display_data"
    }
   ],
   "source": [
    "#Plot a donut chart\n",
    "\n",
    "# Initially we create a pie chart as the base of our donut chart. \n",
    "plt.pie(tips, labels=meal_time, autopct='%1.1f%%', startangle=140)\n",
    "\n",
    "# Next, we create a circle at the center of the base plot\n",
    "centre_circle = plt.Circle((0,0),0.77, fc='white',linewidth=1.25)\n",
    "fig = plt.gcf() # <-- Matplotlib command to get the current figure for further manipulation. \n",
    "# Add the circle to our base pie chart\n",
    "fig.gca().add_artist(centre_circle)\n",
    "\n",
    "plt.legend(loc=\"best\")\n",
    "plt.axis('equal')\n",
    "plt.show()"
   ]
  },
  {
   "cell_type": "markdown",
   "metadata": {
    "id": "KNsH85xaFDaJ"
   },
   "source": [
    "**Analysis**: From both the pie and donut chart, we can see that Dinner was definitely the most profitable meal time for the server. \n",
    "\n",
    "Having learnt how to plot both pie and donut charts you can now use personal preference to decide which is more visually appealing and easy to interpret in your own data analysis projects. "
   ]
  },
  {
   "cell_type": "markdown",
   "metadata": {
    "id": "esznmxSlIh5V"
   },
   "source": [
    "### Line graph\n",
    "\n",
    "Suppose we now want to see how many meals were sold over 6 months at this busy restaurant. We can go ahead and a create a dictionary of this information based on the `total_meals` sold at the restaurant from January to June 1990.  "
   ]
  },
  {
   "cell_type": "code",
   "execution_count": 18,
   "metadata": {
    "executionInfo": {
     "elapsed": 4272,
     "status": "ok",
     "timestamp": 1615975110643,
     "user": {
      "displayName": "Maddy Muir",
      "photoUrl": "https://lh3.googleusercontent.com/a-/AOh14GhHUIKkhXKq9DuA8qOTWpMVwLJh_t6fAHK7YEdm=s64",
      "userId": "16804996998278400557"
     },
     "user_tz": -120
    },
    "id": "_9CkVxONrI4r"
   },
   "outputs": [],
   "source": [
    "total_meals = {'31/01/1990': 1340, '28/02/1990': 1338, '31/03/1990': 1330, '30/04/1990': 1328, '31/05/1990': 1335, '30/06/1990': 1335}"
   ]
  },
  {
   "cell_type": "markdown",
   "metadata": {
    "id": "-hjJcKWrrLmo"
   },
   "source": [
    "To visualise this data we can use a **line graph**:"
   ]
  },
  {
   "cell_type": "code",
   "execution_count": 44,
   "metadata": {
    "colab": {
     "base_uri": "https://localhost:8080/",
     "height": 0
    },
    "executionInfo": {
     "elapsed": 5140,
     "status": "ok",
     "timestamp": 1615975111529,
     "user": {
      "displayName": "Maddy Muir",
      "photoUrl": "https://lh3.googleusercontent.com/a-/AOh14GhHUIKkhXKq9DuA8qOTWpMVwLJh_t6fAHK7YEdm=s64",
      "userId": "16804996998278400557"
     },
     "user_tz": -120
    },
    "id": "ArudmndSIh5W",
    "outputId": "93fc93f2-784a-4224-e2a1-827af9c8bcea"
   },
   "outputs": [
    {
     "data": {
      "image/png": "[encoded data removed]",
      "text/plain": [
       "<Figure size 432x288 with 1 Axes>"
      ]
     },
     "metadata": {
      "needs_background": "light"
     },
     "output_type": "display_data"
    }
   ],
   "source": [
    "dates = list(total_meals.keys()) # Extract the dates (the dictionary keys of our data in this case)\n",
    "x_ax = [date[3:5] for date in dates] # Extract the month from each date string\n",
    "y_ax = list(total_meals.values()) # Extract the total number of meals consumed on each date as a Python list\n",
    "\n",
    "# Plot the line graph\n",
    "plt.plot(x_ax, y_ax, color='green') \n",
    "\n",
    "# Set axis and graph titles\n",
    "plt.xlabel('Month')\n",
    "plt.ylabel('Number of Total meals sold')\n",
    "plt.title('Line Graph Showing the Total Number of Meals Sold Over the First 6 Months of 1990 \\n')\n",
    "\n",
    "plt.show()"
   ]
  },
  {
   "cell_type": "markdown",
   "metadata": {
    "id": "alwFWJe8E0Dr"
   },
   "source": [
    "**Analysis**: From the line plot, we observe successive decreases in the number of meals sold from January to April, with this last month representing the lowest number of sales. This is not coincidental as the Easter holidays are usually celebrated in April where people enjoy spending time with family and feasting on home cooked meals instead of going out. "
   ]
  },
  {
   "cell_type": "markdown",
   "metadata": {
    "id": "lVkeEle7Ih5Z"
   },
   "source": [
    "### Scatter plot\n",
    "As a final visual analysis, we will investigate if there is a relationship between the size of a group which visits the restaurant and the amount that the server gets tipped from this group. We can visually consider this relationship using a **scatter plot**.\n",
    "\n",
    "Scatter plots are a powerful form of visualisation which allow us to view many data points at once. Typically, two variables are considered for a given dataset, with x and y-axis cartesian coordinates being used to place markers representing the data.  Additional variables can also be represented by adding further visual properties to the markers,  such as modifying their size, shape or colour.    \n",
    "\n",
    "In the case of our scatter plot, we seek to observe both the bill total and the associated tip received for each data entry, and to code these values based upon the related group size. We can use the first two variables for the plot's x and y-axis respectively, and can represent the group size variable by using different marker colours.        \n"
   ]
  },
  {
   "cell_type": "code",
   "execution_count": 23,
   "metadata": {
    "colab": {
     "base_uri": "https://localhost:8080/",
     "height": 365
    },
    "executionInfo": {
     "elapsed": 5110,
     "status": "ok",
     "timestamp": 1615975111530,
     "user": {
      "displayName": "Maddy Muir",
      "photoUrl": "https://lh3.googleusercontent.com/a-/AOh14GhHUIKkhXKq9DuA8qOTWpMVwLJh_t6fAHK7YEdm=s64",
      "userId": "16804996998278400557"
     },
     "user_tz": -120
    },
    "id": "ZqM6T3CTIh5a",
    "outputId": "065c5621-2955-49ec-a93b-4cd89141bacd"
   },
   "outputs": [
    {
     "data": {
      "image/png": "[encoded data removed]",
      "text/plain": [
       "<Figure size 720x360 with 1 Axes>"
      ]
     },
     "metadata": {
      "needs_background": "light"
     },
     "output_type": "display_data"
    }
   ],
   "source": [
    "# For this plot, we need to access the underlying Axes object used to create our chart. \n",
    "# To display our data correctly, we also set the `figsize` argument to increase the size of the plot. \n",
    "fig, ax = plt.subplots(figsize=(10,5))\n",
    "\n",
    "# Create the scatter plot, with the 'size' variable being coded as the marker colour. \n",
    "# We set the `alpha` parameter to make the markers slightly transparent to view overlapping points. \n",
    "scatter = ax.scatter(df['total_bill'], df['tip'], c=df['size'], alpha=0.8)\n",
    "\n",
    "# We now create our legend based upon the underlying group size and colour assignments.\n",
    "ax.legend(*scatter.legend_elements(), loc=\"best\", title=\"Group Size\")\n",
    "\n",
    "# Set graph and axis titles\n",
    "plt.title('Scatter Plot Showing the Average Amount Tipped vs Group Size \\n')\n",
    "plt.xlabel('Bill Total ($)')\n",
    "plt.ylabel('Amount Tipped ($)')\n",
    "\n",
    "plt.show()"
   ]
  },
  {
   "cell_type": "markdown",
   "metadata": {
    "id": "BeUmkAfvF8KP"
   },
   "source": [
    "**Analysis**: This chart holds much information! Firstly, we see a general trend that as the group size increases, so does the bill total and the amount tipped. Interestingly, the scatter plot fans out in a cone shape, indicating that as the bill increases there is also more variance in the tips produced. Lastly, it is also surprising to note that the highest tips produced come from mid-sized groups (3-4 individuals. This may represent a dynamic where larger groups tend to both order and tip less, based on the fact that the bill is either being generously picked up by one group member, or split by the group as a whole. It's important to note that this last point is an assumption, however, and cannot be supported by the chart alone - highlighting the need for further data driven analysis which often accompanies the evaluation of a visualisation.    "
   ]
  },
  {
   "cell_type": "markdown",
   "metadata": {
    "id": "QCxAy8GziDNk"
   },
   "source": [
    "## Exercise \n",
    "\n",
    "The restaurant would like to add an extension to accommodate the expanding number of customers they anticipate will visit the restaurant during the festive season. In the expansion they have decided to increase the seating area for non-smoking customers but are uncertain if they should increase the area of the restaurant that is designated for smoking customers too. They have decided to use the data captured by the server to assist them in making this decision. \n",
    "\n",
    "Let's see if we can help them to make a decision based on the \"Total bill\"  racked up by the smoking and non-smoking customers to see if an extension to the smoking area of the restaurant is worth their while \n",
    "\n",
    "For this exercise you should do the following:\n",
    "\n",
    "1. Group and sum data by the number of values for each `smoker` category\n",
    "2. Sort the indices and values that you will use as your `y-axis` and `x-axis`\n",
    "3. Plot a bar graph of the total bill (y-axis) for smoking vs non-smoking customers (x-axis).  \n"
   ]
  },
  {
   "cell_type": "code",
   "execution_count": 32,
   "metadata": {},
   "outputs": [
    {
     "data": {
      "text/html": [
       "<div>\n",
       "<style scoped>\n",
       "    .dataframe tbody tr th:only-of-type {\n",
       "        vertical-align: middle;\n",
       "    }\n",
       "\n",
       "    .dataframe tbody tr th {\n",
       "        vertical-align: top;\n",
       "    }\n",
       "\n",
       "    .dataframe thead th {\n",
       "        text-align: right;\n",
       "    }\n",
       "</style>\n",
       "<table border=\"1\" class=\"dataframe\">\n",
       "  <thead>\n",
       "    <tr style=\"text-align: right;\">\n",
       "      <th></th>\n",
       "      <th>total_bill</th>\n",
       "      <th>tip</th>\n",
       "      <th>size</th>\n",
       "    </tr>\n",
       "    <tr>\n",
       "      <th>smoker</th>\n",
       "      <th></th>\n",
       "      <th></th>\n",
       "      <th></th>\n",
       "    </tr>\n",
       "  </thead>\n",
       "  <tbody>\n",
       "    <tr>\n",
       "      <th>No</th>\n",
       "      <td>2897.43</td>\n",
       "      <td>451.77</td>\n",
       "      <td>403</td>\n",
       "    </tr>\n",
       "    <tr>\n",
       "      <th>Yes</th>\n",
       "      <td>1930.34</td>\n",
       "      <td>279.81</td>\n",
       "      <td>224</td>\n",
       "    </tr>\n",
       "  </tbody>\n",
       "</table>\n",
       "</div>"
      ],
      "text/plain": [
       "        total_bill     tip  size\n",
       "smoker                          \n",
       "No         2897.43  451.77   403\n",
       "Yes        1930.34  279.81   224"
      ]
     },
     "execution_count": 32,
     "metadata": {},
     "output_type": "execute_result"
    }
   ],
   "source": [
    "df.groupby(\"smoker\").sum()"
   ]
  },
  {
   "cell_type": "code",
   "execution_count": 34,
   "metadata": {},
   "outputs": [
    {
     "data": {
      "text/plain": [
       "smoker\n",
       "Yes    1930.34\n",
       "No     2897.43\n",
       "Name: total_bill, dtype: float64"
      ]
     },
     "execution_count": 34,
     "metadata": {},
     "output_type": "execute_result"
    }
   ],
   "source": [
    "df.groupby(\"smoker\").sum().total_bill.sort_values()"
   ]
  },
  {
   "cell_type": "code",
   "execution_count": 39,
   "metadata": {},
   "outputs": [
    {
     "data": {
      "text/plain": [
       "smoker\n",
       "Yes    1930.34\n",
       "No     2897.43\n",
       "Name: total_bill, dtype: float64"
      ]
     },
     "execution_count": 39,
     "metadata": {},
     "output_type": "execute_result"
    }
   ],
   "source": [
    "y_axis = df.groupby(\"smoker\").sum().total_bill.sort_values()\n",
    "y_axis"
   ]
  },
  {
   "cell_type": "code",
   "execution_count": 38,
   "metadata": {},
   "outputs": [
    {
     "data": {
      "text/plain": [
       "Index(['Yes', 'No'], dtype='object', name='smoker')"
      ]
     },
     "execution_count": 38,
     "metadata": {},
     "output_type": "execute_result"
    }
   ],
   "source": [
    "x_axis = df.groupby(\"smoker\").sum().total_bill.sort_values().index\n",
    "x_axis"
   ]
  },
  {
   "cell_type": "code",
   "execution_count": 42,
   "metadata": {},
   "outputs": [
    {
     "data": {
      "image/png": "[encoded data removed]",
      "text/plain": [
       "<Figure size 432x288 with 1 Axes>"
      ]
     },
     "metadata": {
      "needs_background": "light"
     },
     "output_type": "display_data"
    }
   ],
   "source": [
    "# Plot total bill (y-axis) for day of the week (x-axis) \n",
    "# We only have to call a single line of code from matplotlib to produce the base graph. \n",
    "plt.bar(x = x_axis, height = y_axis, color= 'orange' )\n",
    "\n",
    "# Set x and y axis titles\n",
    "plt.ylabel('Number of Smokers and Non-smokers')\n",
    "plt.xlabel('\\n Smoking Status') # Note: '\\n' creates a newline (try removing it and see what happens)  \n",
    "\n",
    "# Set graph title\n",
    "plt.title('Number of Smokers and Non-smokers for Smoking Status \\n')\n",
    "\n",
    "# Show graph\n",
    "plt.show()"
   ]
  },
  {
   "cell_type": "markdown",
   "metadata": {
    "id": "fO4TLd2PKotc"
   },
   "source": [
    "# Conclusion\n",
    "\n",
    "In this train, we outlined some of the basic types of graphs and how to effectively use them. The following was covered:\n",
    "\n",
    "* Understanding when to use a particular graph.\n",
    "* Plotting graphs using the `matplotlib` library in Python.\n",
    "* Interpreting graphs.\n",
    "\n",
    "Learning how to properly represent your data to expose insights is undeniably one of the most essential skills that a data scientist should possess. We encourage you to use the skills that you have learnt from this train to visualisation data you find interesting. \n",
    "\n",
    "Good luck!"
   ]
  },
  {
   "cell_type": "markdown",
   "metadata": {
    "id": "stjHJ0rFKNi3"
   },
   "source": [
    "# Appendix\n",
    "Links to additional resources to help with the understanding of concepts presented in the train: \n",
    "\n",
    "* [Types of graphs for data visualisation](https://blog.hubspot.com/marketing/types-of-graphs-for-data-visualization)\n",
    "\n",
    "* [Data visualisation in Python](https://www.geeksforgeeks.org/data-visualization-different-charts-python/)"
   ]
  }
 ],
 "metadata": {
  "colab": {
   "name": "Introduction_to_data_visualization.ipynb",
   "provenance": []
  },
  "kernelspec": {
   "display_name": "Python 3 (ipykernel)",
   "language": "python",
   "name": "python3"
  },
  "language_info": {
   "codemirror_mode": {
    "name": "ipython",
    "version": 3
   },
   "file_extension": ".py",
   "mimetype": "text/x-python",
   "name": "python",
   "nbconvert_exporter": "python",
   "pygments_lexer": "ipython3",
   "version": "3.9.10"
  }
 },
 "nbformat": 4,
 "nbformat_minor": 1
}
